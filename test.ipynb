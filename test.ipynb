{
 "cells": [
  {
   "cell_type": "code",
   "execution_count": 4,
   "id": "ded7fcad",
   "metadata": {},
   "outputs": [
    {
     "name": "stdout",
     "output_type": "stream",
     "text": [
      "startTime None\n",
      "endTime None\n",
      "queue None\n",
      "type None\n",
      "start None\n",
      "count None\n"
     ]
    }
   ],
   "source": [
    "params = {\n",
    "            \"startTime\" : None,\n",
    "            \"endTime\" : None,\n",
    "            \"queue\" : None,\n",
    "            \"type\" : None,\n",
    "            \"start\" : None,\n",
    "            \"count\" : None\n",
    "        } \n",
    "\n",
    "for i,j in params.items():\n",
    "    print(i,j)"
   ]
  }
 ],
 "metadata": {
  "kernelspec": {
   "display_name": "Python 3",
   "language": "python",
   "name": "python3"
  },
  "language_info": {
   "codemirror_mode": {
    "name": "ipython",
    "version": 3
   },
   "file_extension": ".py",
   "mimetype": "text/x-python",
   "name": "python",
   "nbconvert_exporter": "python",
   "pygments_lexer": "ipython3",
   "version": "3.11.5"
  }
 },
 "nbformat": 4,
 "nbformat_minor": 5
}
